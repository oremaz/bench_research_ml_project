{
  "cells": [
    {
      "cell_type": "markdown",
      "id": "44198830",
      "metadata": {},
      "source": [
        "# Benchmark Vision Models on CIFake Dataset\n",
        "\n",
        "This notebook benchmarks convolutional and transformer-based networks defined in `vision_models.py` on the [CIFake dataset](https://www.kaggle.com/datasets/birdy654/cifake-real-and-ai-generated-synthetic-images).\n"
      ]
    },
    {
      "cell_type": "code",
      "execution_count": null,
      "id": "519bd86a",
      "metadata": {},
      "outputs": [],
      "source": [
        "!pip install -q kaggle torchvision"
      ]
    },
    {
      "cell_type": "code",
      "execution_count": null,
      "id": "453cd2bf",
      "metadata": {},
      "outputs": [],
      "source": [
        "import os\n",
        "from pathlib import Path\n",
        "import numpy as np\n",
        "import torch\n",
        "from torchvision import datasets, transforms\n",
        "from sklearn.metrics import accuracy_score\n",
        "from pipelines_torch.benchmark import BenchmarkRunner\n",
        "import torch\n",
        "from torch.utils.data import DataLoader\n",
        "from torchvision import datasets, transforms\n",
        "from pipelines_torch.vision_models import MODEL_REGISTRY\n",
        "from utils.metrics import METRIC_REGISTRY\n",
        "\n",
        "DATA_DIR = Path('cifake_data')"
      ]
    },
    {
      "cell_type": "code",
      "execution_count": null,
      "id": "a9c04b7d",
      "metadata": {},
      "outputs": [],
      "source": [
        "# Requires Kaggle API credentials available as environment variables\n",
        "# KAGGLE_USERNAME and KAGGLE_KEY. See https://www.kaggle.com/docs/api.\n",
        "if not DATA_DIR.exists():\n",
        "    DATA_DIR.mkdir(parents=True, exist_ok=True)\n",
        "    !kaggle datasets download -d birdy654/cifake-real-and-ai-generated-synthetic-images -p $DATA_DIR --unzip"
      ]
    },
    {
      "cell_type": "code",
      "execution_count": null,
      "id": "43c8c156",
      "metadata": {},
      "outputs": [],
      "source": [
        "transform = transforms.Compose([\n",
        "    transforms.Resize((32, 32)),\n",
        "    transforms.ToTensor(),\n",
        "])\n",
        "\n",
        "train_ds = datasets.ImageFolder(DATA_DIR / 'train', transform=transform)\n",
        "X = torch.stack([img for img, _ in train_ds]).numpy()\n",
        "y = np.array(train_ds.targets)\n",
        "val_ds = datasets.ImageFolder(DATA_DIR / 'test', transform=transform)\n",
        "\n",
        "train_loader = DataLoader(train_ds, batch_size=64, shuffle=True)\n",
        "val_loader = DataLoader(val_ds, batch_size=64)\n",
        "\n",
        "class_names = train_ds.classes\n",
        "num_classes = len(class_names)"
      ]
    },
    {
      "cell_type": "code",
      "execution_count": null,
      "id": "de776ce5",
      "metadata": {},
      "outputs": [],
      "source": [
        "# Build model configs for BenchmarkRunner\n",
        "model_configs = []\n",
        "for name, model_class in MODEL_REGISTRY.items():\n",
        "    # Skip models that might require special handling\n",
        "    if name in ['qwen2_vl_qlora']:  # Skip complex models for now\n",
        "        continue\n",
        "    model_configs.append({\n",
        "        \"name\": name,\n",
        "        \"class\": model_class,\n",
        "        \"params\": {\"num_classes\": num_classes}\n",
        "    })\n",
        "\n",
        "# Set up metrics\n",
        "metrics = [METRIC_REGISTRY[\"accuracy\"], METRIC_REGISTRY[\"f1\"]]\n",
        "\n",
        "# Configure BenchmarkRunner\n",
        "runner = BenchmarkRunner(\n",
        "    model_configs=model_configs,\n",
        "    augmentations=[None],  # No augmentations for now\n",
        "    metrics=metrics,\n",
        "    task_type=\"classification\",\n",
        "    device=\"cuda\" if torch.cuda.is_available() else \"cpu\",\n",
        "    epochs=5,  # Reduced for faster testing\n",
        "    batch_size=64,\n",
        "    use_kfold=False,  # Single train/val split for speed\n",
        "    learning_rate=1e-3,\n",
        "    random_state=42\n",
        ")\n",
        "\n",
        "# Run benchmark\n",
        "print(f\"Running benchmark on {len(X)} samples with {num_classes} classes\")\n",
        "print(f\"Data shape: {X.shape}\")\n",
        "print(f\"Using device: {runner.device}\")\n",
        "\n",
        "results_df = runner.run(X, y)\n",
        "print(\"\\nBenchmark Results:\")\n",
        "print(results_df)"
      ]
    }
  ],
  "metadata": {
    "kernelspec": {
      "display_name": "Python 3",
      "language": "python",
      "name": "python3"
    },
    "language_info": {
      "name": "python",
      "version": "3.11"
    }
  },
  "nbformat": 4,
  "nbformat_minor": 5
}
