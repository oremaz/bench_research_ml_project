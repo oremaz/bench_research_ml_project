{
 "cells": [
  {
   "cell_type": "markdown",
   "id": "44198830",
   "metadata": {},
   "source": [
    "# Benchmark Vision Models on CIFake Dataset\n",
    "\n",
    "This notebook benchmarks convolutional and transformer-based networks defined in `vision_models.py` on the [CIFake dataset](https://www.kaggle.com/datasets/birdy654/cifake-real-and-ai-generated-synthetic-images).\n"
   ]
  },
  {
   "cell_type": "code",
   "execution_count": null,
   "id": "519bd86a",
   "metadata": {},
   "outputs": [],
   "source": [
    "\n",
    "!pip install -q kaggle torchvision\n"
   ]
  },
  {
   "cell_type": "code",
   "execution_count": null,
   "id": "453cd2bf",
   "metadata": {},
   "outputs": [],
   "source": [
    "\n",
    "import os\n",
    "from pathlib import Path\n",
    "import numpy as np\n",
    "import torch\n",
    "from torchvision import datasets, transforms\n",
    "from vision_models import MODEL_REGISTRY\n",
    "from sklearn.metrics import accuracy_score\n",
    "from pipelines_torch.benchmark import BenchmarkRunner\n",
    "\n",
    "DATA_DIR = Path('cifake_data')\n"
   ]
  },
  {
   "cell_type": "code",
   "execution_count": null,
   "id": "a9c04b7d",
   "metadata": {},
   "outputs": [],
   "source": [
    "\n",
    "# Requires Kaggle API credentials available as environment variables\n",
    "# KAGGLE_USERNAME and KAGGLE_KEY. See https://www.kaggle.com/docs/api.\n",
    "if not DATA_DIR.exists():\n",
    "    DATA_DIR.mkdir(parents=True, exist_ok=True)\n",
    "    !kaggle datasets download -d birdy654/cifake-real-and-ai-generated-synthetic-images -p $DATA_DIR --unzip\n"
   ]
  },
  {
   "cell_type": "code",
   "execution_count": null,
   "id": "43c8c156",
   "metadata": {},
   "outputs": [],
   "source": [
    "\n",
    "transform = transforms.Compose([\n",
    "    transforms.Resize((32, 32)),\n",
    "    transforms.ToTensor(),\n",
    "])\n",
    "\n",
    "train_ds = datasets.ImageFolder(DATA_DIR / 'train', transform=transform)\n",
    "X = torch.stack([img for img, _ in train_ds]).numpy()\n",
    "y = np.array(train_ds.targets)\n",
    "\n",
    "class_names = train_ds.classes\n",
    "num_classes = len(class_names)\n"
   ]
  },
  {
   "cell_type": "code",
   "execution_count": null,
   "id": "0fd6f25a",
   "metadata": {},
   "outputs": [],
   "source": [
    "\n",
    "model_names = ['simple_cnn', 'dropout_cnn', 'residual_cnn', 'resnet50', 'vision_transformer', 'clip_classifier']\n",
    "\n",
    "model_configs = [\n",
    "    {'name': name, 'class': MODEL_REGISTRY[name], 'params': {'num_classes': num_classes}}\n",
    "    for name in model_names\n",
    "]\n",
    "\n",
    "runner = BenchmarkRunner(\n",
    "    model_configs=model_configs,\n",
    "    augmentations=[None],\n",
    "    metrics=[accuracy_score],\n",
    "    task_type='classification',\n",
    "    device='cpu',\n",
    "    epochs=1,\n",
    "    batch_size=64,\n",
    "    use_kfold=False,\n",
    ")\n",
    "\n",
    "results_df = runner.run(X, y)\n",
    "results_df\n"
   ]
  }
 ],
 "metadata": {},
 "nbformat": 4,
 "nbformat_minor": 5
}
