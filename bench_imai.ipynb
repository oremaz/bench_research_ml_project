{
 "cells": [
  {
   "cell_type": "markdown",
   "id": "44198830",
   "metadata": {},
   "source": [
    "# Benchmark Vision Models on CIFake Dataset\n",
    "\n",
    "This notebook benchmarks convolutional and transformer-based networks defined in `vision_models.py` on the [CIFake dataset](https://www.kaggle.com/datasets/birdy654/cifake-real-and-ai-generated-synthetic-images).\n"
    "\n",
    "# Benchmark Vision Models on CIFake Dataset\n",
    "\n",
    "This notebook benchmarks several convolutional neural networks defined in `vision_models.py` on the [CIFake dataset](https://www.kaggle.com/datasets/birdy654/cifake-real-and-ai-generated-synthetic-images).\n"
   ]
  },
  {
   "cell_type": "code",
   "execution_count": null,
   "id": "519bd86a",
   "metadata": {},
   "outputs": [],
   "source": [
    "\n",
    "!pip install -q kaggle torchvision\n"
   ]
  },
  {
   "cell_type": "code",
   "execution_count": null,
   "id": "453cd2bf",
   "metadata": {},
   "outputs": [],
   "source": [
    "\n",
    "import os\n",
    "from pathlib import Path\n",
    "import numpy as np\n",
    "import torch\n",
    "from torchvision import datasets, transforms\n",
    "from vision_models import MODEL_REGISTRY\n",
    "from sklearn.metrics import accuracy_score\n",
    "from pipelines_torch.benchmark import BenchmarkRunner\n",
    "import torch\n",
    "from torch.utils.data import DataLoader\n",
    "from torchvision import datasets, transforms\n",
    "from vision_models import get_model, MODEL_REGISTRY\n",
    "\n",
    "DATA_DIR = Path('cifake_data')\n"
   ]
  },
  {
   "cell_type": "code",
   "execution_count": null,
   "id": "a9c04b7d",
   "metadata": {},
   "outputs": [],
   "source": [
    "\n",
    "# Requires Kaggle API credentials available as environment variables\n",
    "# KAGGLE_USERNAME and KAGGLE_KEY. See https://www.kaggle.com/docs/api.\n",
    "if not DATA_DIR.exists():\n",
    "    DATA_DIR.mkdir(parents=True, exist_ok=True)\n",
    "    !kaggle datasets download -d birdy654/cifake-real-and-ai-generated-synthetic-images -p $DATA_DIR --unzip\n"
   ]
  },
  {
   "cell_type": "code",
   "execution_count": null,
   "id": "43c8c156",
   "metadata": {},
   "outputs": [],
   "source": [
    "\n",
    "transform = transforms.Compose([\n",
    "    transforms.Resize((32, 32)),\n",
    "    transforms.ToTensor(),\n",
    "])\n",
    "\n",
    "train_ds = datasets.ImageFolder(DATA_DIR / 'train', transform=transform)\n",
    "X = torch.stack([img for img, _ in train_ds]).numpy()\n",
    "y = np.array(train_ds.targets)\n",
    "val_ds = datasets.ImageFolder(DATA_DIR / 'test', transform=transform)\n",
    "\n",
    "train_loader = DataLoader(train_ds, batch_size=64, shuffle=True)\n",
    "val_loader = DataLoader(val_ds, batch_size=64)\n",
    "\n",
    "class_names = train_ds.classes\n",
    "num_classes = len(class_names)\n"
   ]
  },
  {
   "cell_type": "code",
   "execution_count": null,
   "id": "0fd6f25a",
   "id": "c977fe85",
   "metadata": {},
   "outputs": [],
   "source": [
    "\n",
    "model_names = ['simple_cnn', 'dropout_cnn', 'residual_cnn', 'resnet50', 'vision_transformer', 'clip_classifier']\n",
    "\n",
    "model_configs = [\n",
    "    {'name': name, 'class': MODEL_REGISTRY[name], 'params': {'num_classes': num_classes}}\n",
    "    for name in model_names\n",
    "]\n",
    "\n",
    "runner = BenchmarkRunner(\n",
    "    model_configs=model_configs,\n",
    "    augmentations=[None],\n",
    "    metrics=[accuracy_score],\n",
    "    task_type='classification',\n",
    "    device='cpu',\n",
    "    epochs=1,\n",
    "    batch_size=64,\n",
    "    use_kfold=False,\n",
    ")\n",
    "\n",
    "results_df = runner.run(X, y)\n",
    "results_df\n"
    "from torch import nn, optim\n",
    "\n",
    "def train_epoch(model, loader, criterion, optimizer):\n",
    "    model.train()\n",
    "    running_loss, running_acc = 0.0, 0.0\n",
    "    for x, y in loader:\n",
    "        optimizer.zero_grad()\n",
    "        preds = model(x)\n",
    "        loss = criterion(preds, y)\n",
    "        loss.backward()\n",
    "        optimizer.step()\n",
    "        running_loss += loss.item() * x.size(0)\n",
    "        running_acc += (preds.argmax(1) == y).sum().item()\n",
    "    return running_loss / len(loader.dataset), running_acc / len(loader.dataset)\n",
    "\n",
    "\n",
    "def evaluate(model, loader, criterion):\n",
    "    model.eval()\n",
    "    loss, acc = 0.0, 0.0\n",
    "    with torch.no_grad():\n",
    "        for x, y in loader:\n",
    "            preds = model(x)\n",
    "            loss += criterion(preds, y).item() * x.size(0)\n",
    "            acc += (preds.argmax(1) == y).sum().item()\n",
    "    return loss / len(loader.dataset), acc / len(loader.dataset)\n"
   ]
  },
  {
   "cell_type": "code",
   "execution_count": null,
   "id": "de776ce5",
   "metadata": {},
   "outputs": [],
   "source": [
    "\n",
    "results = {}\n",
    "for name in MODEL_REGISTRY:\n",
    "    model = get_model(name, num_classes=num_classes)\n",
    "    criterion = nn.CrossEntropyLoss()\n",
    "    optimizer = optim.Adam(model.parameters(), lr=1e-3)\n",
    "    train_loss, train_acc = train_epoch(model, train_loader, criterion, optimizer)\n",
    "    val_loss, val_acc = evaluate(model, val_loader, criterion)\n",
    "    results[name] = {'train_acc': train_acc, 'val_acc': val_acc}\n",
    "    print(name, results[name])\n",
    "\n",
    "results\n"
   ]
  }
 ],
 "metadata": {},
 "nbformat": 4,
 "nbformat_minor": 5
}
